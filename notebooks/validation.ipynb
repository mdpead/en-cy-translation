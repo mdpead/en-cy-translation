{
 "cells": [
  {
   "cell_type": "code",
   "execution_count": null,
   "id": "3b14ee54",
   "metadata": {},
   "outputs": [],
   "source": [
    "import torch\n",
    "import json\n",
    "import matplotlib.pyplot as plt\n",
    "import pandas as pd\n",
    "import os\n",
    "import re\n",
    "from src import generation"
   ]
  },
  {
   "cell_type": "code",
   "execution_count": 2,
   "id": "d86cbe6d",
   "metadata": {},
   "outputs": [],
   "source": [
    "MODEL_DIR = './models'\n",
    "MODEL_RUN = None"
   ]
  },
  {
   "cell_type": "code",
   "execution_count": 3,
   "id": "d76ac603",
   "metadata": {},
   "outputs": [],
   "source": [
    "def load_assets(model_dir, model_run=None):\n",
    "    if not model_run:\n",
    "        dirs = os.listdir(model_dir)\n",
    "        model_runs = [d for d in dirs if re.fullmatch(r\"^\\d{8}_\\d{6}$\", d)]\n",
    "        model_runs.sort()\n",
    "        model_run = model_runs[-1]\n",
    "    with open(f'{model_dir}/{model_run}/results.json', 'r') as f:\n",
    "        results = json.load(f)\n",
    "        results_df = pd.DataFrame(results)\n",
    "    \n",
    "    return results_df"
   ]
  },
  {
   "cell_type": "code",
   "execution_count": 4,
   "id": "b136225d",
   "metadata": {},
   "outputs": [],
   "source": [
    "results_df = load_assets(MODEL_DIR, MODEL_RUN)"
   ]
  },
  {
   "cell_type": "code",
   "execution_count": 8,
   "id": "2c7423a4",
   "metadata": {},
   "outputs": [
    {
     "data": {
      "application/vnd.microsoft.datawrangler.viewer.v0+json": {
       "columns": [
        {
         "name": "index",
         "rawType": "int64",
         "type": "integer"
        },
        {
         "name": "step_no",
         "rawType": "int64",
         "type": "integer"
        },
        {
         "name": "num_tokens",
         "rawType": "int64",
         "type": "integer"
        },
        {
         "name": "tokens_per_sec",
         "rawType": "float64",
         "type": "float"
        },
        {
         "name": "learning_rate",
         "rawType": "float64",
         "type": "float"
        },
        {
         "name": "training_loss",
         "rawType": "float64",
         "type": "float"
        },
        {
         "name": "token_length",
         "rawType": "int64",
         "type": "integer"
        }
       ],
       "ref": "13e587ac-3dfa-4f0c-b439-50562a414b3c",
       "rows": [
        [
         "0",
         "0",
         "19435",
         "2059.7988956732706",
         "2e-06",
         "9.260737508535385",
         "44"
        ],
        [
         "1",
         "1",
         "19465",
         "15759.440334391013",
         "4e-06",
         "9.245135128498077",
         "37"
        ],
        [
         "2",
         "2",
         "19371",
         "15355.945588059356",
         "6e-06",
         "9.219543099403381",
         "28"
        ],
        [
         "3",
         "3",
         "19457",
         "15856.007781062415",
         "8e-06",
         "9.181366696953773",
         "14"
        ],
        [
         "4",
         "4",
         "19475",
         "23407.24350458436",
         "1e-05",
         "9.131180390715599",
         "22"
        ],
        [
         "5",
         "5",
         "19387",
         "14736.488629258705",
         "1.2e-05",
         "9.078191116452217",
         "18"
        ],
        [
         "6",
         "6",
         "19330",
         "16128.96350249377",
         "1.4e-05",
         "9.027127251029015",
         "25"
        ],
        [
         "7",
         "7",
         "19368",
         "15712.339907600503",
         "1.6e-05",
         "8.981427296996117",
         "38"
        ],
        [
         "8",
         "8",
         "19345",
         "21401.175283047483",
         "1.8e-05",
         "8.932704910635948",
         "49"
        ],
        [
         "9",
         "9",
         "19436",
         "17540.05497457224",
         "2e-05",
         "8.890200391411781",
         "32"
        ],
        [
         "10",
         "10",
         "19567",
         "15489.214986367897",
         "2.2000000000000003e-05",
         "8.851707354187965",
         "18"
        ],
        [
         "11",
         "11",
         "19390",
         "14476.249383454857",
         "2.4e-05",
         "8.826802164316177",
         "11"
        ],
        [
         "12",
         "12",
         "19394",
         "24087.871267341292",
         "2.6000000000000002e-05",
         "8.792684435844421",
         "9"
        ],
        [
         "13",
         "13",
         "19187",
         "14174.693013236576",
         "2.8e-05",
         "8.771827757358551",
         "35"
        ],
        [
         "14",
         "14",
         "19420",
         "13545.294728047722",
         "3e-05",
         "8.732104420661926",
         "40"
        ],
        [
         "15",
         "15",
         "19467",
         "13890.980390448918",
         "3.2e-05",
         "8.70611247420311",
         "56"
        ],
        [
         "16",
         "16",
         "19411",
         "21913.64531151505",
         "3.4e-05",
         "8.677659258246422",
         "33"
        ],
        [
         "17",
         "17",
         "19356",
         "14736.45324084192",
         "3.6e-05",
         "8.657217770814896",
         "46"
        ],
        [
         "18",
         "18",
         "19575",
         "14894.380631527465",
         "3.8e-05",
         "8.630414858460426",
         "15"
        ],
        [
         "19",
         "19",
         "19382",
         "11778.54016575788",
         "4e-05",
         "8.587474778294563",
         "27"
        ],
        [
         "20",
         "20",
         "19545",
         "31759.753260232428",
         "4.2000000000000004e-05",
         "8.585322111845016",
         "30"
        ],
        [
         "21",
         "21",
         "19350",
         "18670.262948676424",
         "4.4000000000000006e-05",
         "8.572446256875992",
         "51"
        ],
        [
         "22",
         "22",
         "19417",
         "17633.753054967878",
         "4.6e-05",
         "8.537527039647102",
         "32"
        ],
        [
         "23",
         "23",
         "19336",
         "18042.433232525433",
         "4.8e-05",
         "8.499850109219551",
         "26"
        ],
        [
         "24",
         "24",
         "19399",
         "18623.055629090264",
         "5e-05",
         "8.491005420684814",
         "37"
        ],
        [
         "25",
         "25",
         "19412",
         "29857.853746083027",
         "5.2000000000000004e-05",
         "8.450928926467896",
         "27"
        ],
        [
         "26",
         "26",
         "19484",
         "17949.21774516983",
         "5.4000000000000005e-05",
         "8.441676124930382",
         "28"
        ],
        [
         "27",
         "27",
         "19351",
         "18243.41691357908",
         "5.6e-05",
         "8.418173477053642",
         "35"
        ],
        [
         "28",
         "28",
         "19446",
         "18021.772989006073",
         "5.800000000000001e-05",
         "8.381389886140823",
         "13"
        ],
        [
         "29",
         "29",
         "19414",
         "17331.51008071897",
         "6e-05",
         "8.357605412602425",
         "31"
        ],
        [
         "30",
         "30",
         "19356",
         "31308.04273183238",
         "6.2e-05",
         "8.351179227232933",
         "31"
        ],
        [
         "31",
         "31",
         "19320",
         "17899.70936867008",
         "6.4e-05",
         "8.308349192142487",
         "51"
        ],
        [
         "32",
         "32",
         "19415",
         "18082.53772450117",
         "6.6e-05",
         "8.291417226195335",
         "70"
        ],
        [
         "33",
         "33",
         "19340",
         "18520.033506811065",
         "6.8e-05",
         "8.24706706404686",
         "51"
        ],
        [
         "34",
         "34",
         "19454",
         "18041.44119638322",
         "7.000000000000001e-05",
         "8.229208409786224",
         "10"
        ],
        [
         "35",
         "35",
         "19455",
         "35010.50927304446",
         "7.2e-05",
         "8.200838550925255",
         "18"
        ],
        [
         "36",
         "36",
         "19261",
         "18463.837359412533",
         "7.400000000000001e-05",
         "8.170852944254875",
         "8"
        ],
        [
         "37",
         "37",
         "19463",
         "18161.07437801781",
         "7.6e-05",
         "8.131280645728111",
         "26"
        ],
        [
         "38",
         "38",
         "19462",
         "17798.620113664983",
         "7.8e-05",
         "8.097492665052414",
         "17"
        ],
        [
         "39",
         "39",
         "19419",
         "18609.8751848725",
         "8e-05",
         "8.048323914408684",
         "107"
        ],
        [
         "40",
         "40",
         "19428",
         "1788.3337815930722",
         "8.2e-05",
         "8.033386066555977",
         "43"
        ],
        [
         "41",
         "41",
         "19381",
         "-2106.171774898953",
         "8.400000000000001e-05",
         "7.992539703845978",
         "28"
        ],
        [
         "42",
         "42",
         "19418",
         "16738.95553021665",
         "8.6e-05",
         "7.944305166602135",
         "38"
        ],
        [
         "43",
         "43",
         "19434",
         "16830.390125434893",
         "8.800000000000001e-05",
         "7.920269727706909",
         "9"
        ],
        [
         "44",
         "44",
         "19341",
         "17005.10783236218",
         "9e-05",
         "7.91070356965065",
         "32"
        ],
        [
         "45",
         "45",
         "19274",
         "29981.1360408486",
         "9.2e-05",
         "7.845135346055031",
         "41"
        ],
        [
         "46",
         "46",
         "19425",
         "16532.053099406567",
         "9.400000000000001e-05",
         "7.803283154964447",
         "7"
        ],
        [
         "47",
         "47",
         "19386",
         "16686.510107339756",
         "9.6e-05",
         "7.796464994549751",
         "50"
        ],
        [
         "48",
         "48",
         "19534",
         "16353.69759419717",
         "9.8e-05",
         "7.736883491277695",
         "54"
        ],
        [
         "49",
         "49",
         "19411",
         "17820.564077577674",
         "0.0001",
         "7.732277929782867",
         "30"
        ]
       ],
       "shape": {
        "columns": 6,
        "rows": 1000
       }
      },
      "text/html": [
       "<div>\n",
       "<style scoped>\n",
       "    .dataframe tbody tr th:only-of-type {\n",
       "        vertical-align: middle;\n",
       "    }\n",
       "\n",
       "    .dataframe tbody tr th {\n",
       "        vertical-align: top;\n",
       "    }\n",
       "\n",
       "    .dataframe thead th {\n",
       "        text-align: right;\n",
       "    }\n",
       "</style>\n",
       "<table border=\"1\" class=\"dataframe\">\n",
       "  <thead>\n",
       "    <tr style=\"text-align: right;\">\n",
       "      <th></th>\n",
       "      <th>step_no</th>\n",
       "      <th>num_tokens</th>\n",
       "      <th>tokens_per_sec</th>\n",
       "      <th>learning_rate</th>\n",
       "      <th>training_loss</th>\n",
       "      <th>token_length</th>\n",
       "    </tr>\n",
       "  </thead>\n",
       "  <tbody>\n",
       "    <tr>\n",
       "      <th>0</th>\n",
       "      <td>0</td>\n",
       "      <td>19435</td>\n",
       "      <td>2059.798896</td>\n",
       "      <td>0.000002</td>\n",
       "      <td>9.260738</td>\n",
       "      <td>44</td>\n",
       "    </tr>\n",
       "    <tr>\n",
       "      <th>1</th>\n",
       "      <td>1</td>\n",
       "      <td>19465</td>\n",
       "      <td>15759.440334</td>\n",
       "      <td>0.000004</td>\n",
       "      <td>9.245135</td>\n",
       "      <td>37</td>\n",
       "    </tr>\n",
       "    <tr>\n",
       "      <th>2</th>\n",
       "      <td>2</td>\n",
       "      <td>19371</td>\n",
       "      <td>15355.945588</td>\n",
       "      <td>0.000006</td>\n",
       "      <td>9.219543</td>\n",
       "      <td>28</td>\n",
       "    </tr>\n",
       "    <tr>\n",
       "      <th>3</th>\n",
       "      <td>3</td>\n",
       "      <td>19457</td>\n",
       "      <td>15856.007781</td>\n",
       "      <td>0.000008</td>\n",
       "      <td>9.181367</td>\n",
       "      <td>14</td>\n",
       "    </tr>\n",
       "    <tr>\n",
       "      <th>4</th>\n",
       "      <td>4</td>\n",
       "      <td>19475</td>\n",
       "      <td>23407.243505</td>\n",
       "      <td>0.000010</td>\n",
       "      <td>9.131180</td>\n",
       "      <td>22</td>\n",
       "    </tr>\n",
       "    <tr>\n",
       "      <th>...</th>\n",
       "      <td>...</td>\n",
       "      <td>...</td>\n",
       "      <td>...</td>\n",
       "      <td>...</td>\n",
       "      <td>...</td>\n",
       "      <td>...</td>\n",
       "    </tr>\n",
       "    <tr>\n",
       "      <th>995</th>\n",
       "      <td>995</td>\n",
       "      <td>19438</td>\n",
       "      <td>15466.543045</td>\n",
       "      <td>0.000022</td>\n",
       "      <td>5.542601</td>\n",
       "      <td>25</td>\n",
       "    </tr>\n",
       "    <tr>\n",
       "      <th>996</th>\n",
       "      <td>996</td>\n",
       "      <td>19353</td>\n",
       "      <td>28420.830777</td>\n",
       "      <td>0.000022</td>\n",
       "      <td>5.533251</td>\n",
       "      <td>38</td>\n",
       "    </tr>\n",
       "    <tr>\n",
       "      <th>997</th>\n",
       "      <td>997</td>\n",
       "      <td>19464</td>\n",
       "      <td>15709.783659</td>\n",
       "      <td>0.000022</td>\n",
       "      <td>5.503167</td>\n",
       "      <td>12</td>\n",
       "    </tr>\n",
       "    <tr>\n",
       "      <th>998</th>\n",
       "      <td>998</td>\n",
       "      <td>19475</td>\n",
       "      <td>16338.026362</td>\n",
       "      <td>0.000022</td>\n",
       "      <td>5.486943</td>\n",
       "      <td>9</td>\n",
       "    </tr>\n",
       "    <tr>\n",
       "      <th>999</th>\n",
       "      <td>999</td>\n",
       "      <td>19406</td>\n",
       "      <td>14062.609221</td>\n",
       "      <td>0.000022</td>\n",
       "      <td>5.558802</td>\n",
       "      <td>37</td>\n",
       "    </tr>\n",
       "  </tbody>\n",
       "</table>\n",
       "<p>1000 rows × 6 columns</p>\n",
       "</div>"
      ],
      "text/plain": [
       "     step_no  num_tokens  tokens_per_sec  learning_rate  training_loss  \\\n",
       "0          0       19435     2059.798896       0.000002       9.260738   \n",
       "1          1       19465    15759.440334       0.000004       9.245135   \n",
       "2          2       19371    15355.945588       0.000006       9.219543   \n",
       "3          3       19457    15856.007781       0.000008       9.181367   \n",
       "4          4       19475    23407.243505       0.000010       9.131180   \n",
       "..       ...         ...             ...            ...            ...   \n",
       "995      995       19438    15466.543045       0.000022       5.542601   \n",
       "996      996       19353    28420.830777       0.000022       5.533251   \n",
       "997      997       19464    15709.783659       0.000022       5.503167   \n",
       "998      998       19475    16338.026362       0.000022       5.486943   \n",
       "999      999       19406    14062.609221       0.000022       5.558802   \n",
       "\n",
       "     token_length  \n",
       "0              44  \n",
       "1              37  \n",
       "2              28  \n",
       "3              14  \n",
       "4              22  \n",
       "..            ...  \n",
       "995            25  \n",
       "996            38  \n",
       "997            12  \n",
       "998             9  \n",
       "999            37  \n",
       "\n",
       "[1000 rows x 6 columns]"
      ]
     },
     "execution_count": 8,
     "metadata": {},
     "output_type": "execute_result"
    }
   ],
   "source": [
    "results_df"
   ]
  },
  {
   "cell_type": "code",
   "execution_count": 14,
   "id": "08006457",
   "metadata": {},
   "outputs": [
    {
     "data": {
      "text/plain": [
       "<Axes: xlabel='step_no'>"
      ]
     },
     "execution_count": 14,
     "metadata": {},
     "output_type": "execute_result"
    },
    {
     "data": {
      "image/png": "[encoded data removed]",
      "text/plain": [
       "<Figure size 640x480 with 1 Axes>"
      ]
     },
     "metadata": {},
     "output_type": "display_data"
    }
   ],
   "source": [
    "results_df.plot(x=\"step_no\", y=\"training_loss\", loglog=True)"
   ]
  },
  {
   "cell_type": "code",
   "execution_count": 15,
   "id": "ba0cdecb",
   "metadata": {},
   "outputs": [
    {
     "data": {
      "text/plain": [
       "<Axes: xlabel='step_no'>"
      ]
     },
     "execution_count": 15,
     "metadata": {},
     "output_type": "execute_result"
    },
    {
     "data": {
      "image/png": "[encoded data removed]",
      "text/plain": [
       "<Figure size 640x480 with 1 Axes>"
      ]
     },
     "metadata": {},
     "output_type": "display_data"
    }
   ],
   "source": [
    "results_df.plot(x=\"step_no\", y=\"learning_rate\")"
   ]
  },
  {
   "cell_type": "code",
   "execution_count": null,
   "id": "32bb2b7b",
   "metadata": {},
   "outputs": [],
   "source": [
    "translated = generation.generate_translation(\n",
    "    transformer,\n",
    "    tokenizers,\n",
    "    input_text=\"This is a test sentence.\",\n",
    "    device=DEVICE\n",
    "    \n",
    ")   "
   ]
  }
 ],
 "metadata": {
  "kernelspec": {
   "display_name": ".venv (3.12.3)",
   "language": "python",
   "name": "python3"
  },
  "language_info": {
   "codemirror_mode": {
    "name": "ipython",
    "version": 3
   },
   "file_extension": ".py",
   "mimetype": "text/x-python",
   "name": "python",
   "nbconvert_exporter": "python",
   "pygments_lexer": "ipython3",
   "version": "3.12.3"
  }
 },
 "nbformat": 4,
 "nbformat_minor": 5
}
